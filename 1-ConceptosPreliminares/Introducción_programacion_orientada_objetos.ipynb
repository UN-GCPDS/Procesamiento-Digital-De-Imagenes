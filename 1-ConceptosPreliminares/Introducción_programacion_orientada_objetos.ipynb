{
  "nbformat": 4,
  "nbformat_minor": 0,
  "metadata": {
    "colab": {
      "name": "Introducción_programacion_orientada_objetos.ipynb",
      "provenance": [],
      "collapsed_sections": [],
      "include_colab_link": true
    },
    "kernelspec": {
      "name": "python3",
      "display_name": "Python 3"
    },
    "language_info": {
      "name": "python"
    }
  },
  "cells": [
    {
      "cell_type": "markdown",
      "metadata": {
        "id": "view-in-github",
        "colab_type": "text"
      },
      "source": [
        "<a href=\"https://colab.research.google.com/github/UN-GCPDS/Procesamiento-Digital-De-Imagenes/blob/main/1-ConceptosPreliminares/Introducci%C3%B3n_programacion_orientada_objetos.ipynb\" target=\"_parent\"><img src=\"https://colab.research.google.com/assets/colab-badge.svg\" alt=\"Open In Colab\"/></a>"
      ]
    },
    {
      "cell_type": "markdown",
      "source": [
        "# Paradigmas de Programación\n",
        "\n",
        "Para entender que son los paradigmas de programación, es importante entender primero que es un **paradigma**.\n",
        "> El concepto de paradigma es utilizado comúnmente como sinónimo de _ejemplo_ o para hacer referencia en caso de algo que se toma como _modelo_ [1](https://es.wikipedia.org/wiki/Paradigma#cite_ref-1).\n",
        "\n",
        "\n",
        "<img src=\"https://drive.google.com/uc?export=view&id=1WSjLWKiTvhwUtFmdCc8kuz08EUQ86oTP\" width=\"100%\" height=\"20%\"/>\n",
        "\n",
        "\n",
        "Por lo tanto, un paradigma de programación puede entenderse como un _modelo_ o _estilo_ de resolver un problema a través de la programación.\n",
        "\n",
        "Los paradigmas de programación pueden dividirse en dos grandes categorias:\n",
        "1. Declarativos: Donde solo se especifica _lo que se quiere hacer_. \n",
        "2. Imperativos: Donde se especifica _como    obtener lo que se quiere hacer_ (se le da el paso a paso de como obtener lo que se quiere).\n",
        "\n",
        "Por **ejemplo**, para resolver el problema de ordenar ascendentemente los elementos de la lista l, en el caso del paradigma declarativo se tendría una solución del tipo:\n",
        " ```python\n",
        "l.sort()\n",
        " ```\n",
        " en el caso del paradigma imperativo sería:\n",
        "  ```python\n",
        "for i in range(len(l)-1):\n",
        "    for j in range(i+1,len(l)):\n",
        "      if l[i] > l[j]:\n",
        "        l[i], l[j] = l[j],l[i]\n",
        " ``` \n",
        " donde se especifica paso a paso como obtener la solución.\n",
        "\n",
        "El paradigma de programación imperativo a su vez se divide en otros dos paradigmas.\n",
        "\n",
        "1. Secuencial: El problema se resuelve a través de un conjunto de instrucciones que se ejecutan de forma secuencial (orden lógico), estas intrucciones incluyen  declaración de variables, sentencias condicionales y ciclicas, funciones, etc...\n",
        "\n",
        " <img src=\"https://drive.google.com/uc?export=view&id=1EYX-WE2C4gY0kevhrIVBpbFfbRCtU3Zp\" width=\"60%\" height=\"10%\"/>\n",
        "\n",
        " Por **ejemplo**, si se tuviera el problema de obtener la cantidad de dinero que tendrá que pagar un cliente por una compra, si una tienda ofrece un 15% de descuento sobre el total de la compra, con este paradigma se resolvería de la siguiente manera:\n",
        "  ```python\n",
        "valor_compra = int(input(\"Ingrese el valor de la compra: \")) #1.Entrada\n",
        "if valor_compra <= 0: #2.Validación de la Entrada\n",
        "    raise ValueError(\"El valor de la compra debe ser positivo\")\n",
        "descuento = valor_compra*0.15 #3.Calculo descuento\n",
        "valor_a_pagar = valor_compra - descuento #4.Calculo valor a pagar\n",
        "print('El valor a pagar es: ', valor_a_pagar) #.Salida\n",
        " ```\n",
        " donde las instrucciones siguen una secuencia de pasos lógica.\n",
        "2. **_Orientado a Objetos_**: El problema se modela y resuleve a través de objetos que interactuan entre si."
      ],
      "metadata": {
        "id": "1IJM6ga1iA6S"
      }
    },
    {
      "cell_type": "markdown",
      "source": [
        "# Programación Orientada a Objetos (POO)"
      ],
      "metadata": {
        "id": "W85aqJLLzKFg"
      }
    },
    {
      "cell_type": "markdown",
      "source": [
        "## Objetos\n",
        "Un objeto es cualquier elemento que pueda describirse a través de  _propiedades_ (atributos) y _comportamientos_ (métodos).\n",
        "\n",
        "**Ejemplo**\n",
        "\n",
        "1. Objeto persona:\n",
        "\n",
        "  <img src=\"https://drive.google.com/uc?export=view&id=13FjO7twhPSX_EsgbFcPdo-Bm3T2SSfHP\" width=\"40%\" height=\"10%\"/>\n",
        "\n",
        "  - Atributos\n",
        "    - Nombre\n",
        "    - Edad\n",
        "    - Peso\n",
        "    - Altura\n",
        "    - Grupo sanguíneo\n",
        "  - Métodos\n",
        "    - Comer\n",
        "    - Dormir\n",
        "    - Caminar\n",
        "\n",
        "2. Objeto Carro:\n",
        "  <img src=\"https://drive.google.com/uc?export=view&id=1_XVtcNr5mpnfG27iDdkv5sWqlM7Prwdq\" width=\"60%\" height=\"10%\"/>\n",
        "\n",
        "  - Atributos\n",
        "    - Marca\n",
        "    - Color\n",
        "    - Tamaño\n",
        "  - Métodos\n",
        "    - Arrancar\n",
        "    - Acelerar\n",
        "    - Frenar\n",
        "\n",
        "\n",
        "En base a esto, ¿Sera el amor un objeto?, ¿Sería una función matemática, como por ejemplo la ecuación de una linea recta un objeto?, ¿será una parábola un objeto? si la respuesta es si, ¿Cuáles serían sus atributos y métodos?\n",
        "\n",
        "## Clases\n",
        "Una clase se define como una _plantilla_ para la creación de objetos, aquí lo que verdaremanete importa es la estructura del objeto (¿Cuáles son sus atributos y métodos?) y no los valores de estos en si.\n",
        "\n",
        "<img src=\"https://drive.google.com/uc?export=view&id=1ioZvaWTGRZAwn3J9Ll4XQ7nOR7e83N4-\" width=\"100%\" height=\"10%\"/>\n",
        "\n",
        "\n",
        "Los objetos de una misma clase tienen los mismos atributos y métodos, sin embargo, el valor de los atributos de cada uno puede ser diferente. Por **ejemplo**, todos los postres de la imagen anterior vienen del mismo molde y  tienen atributos como sabor, color, y textura; no obstante, el sabor de unos puede ser chocolate mientras el de otros vainilla o el color de unos es café mientras el de otros blancos, por lo cual aunque vengan del mismo molde (clase) cada postre(objeto) es único.\n",
        "\n",
        "## Instanciación\n",
        "Se conoce como instanciación al proceso de _crear un objeto a partir de una clase_, dandole valores particulares a los atributos (crear un postre de chocolate blanco a partir del molde).\n",
        "\n",
        "<img src=\"https://drive.google.com/uc?export=view&id=1488LviX7voX3aExCM_Qz9UDvhGtepaN1\" width=\"100%\" height=\"10%\"/>\n",
        "\n",
        "## Constructor\n",
        "\n",
        "Se conoce como constructor al método que nos permite instanciar un objeto (es una funciòn que nos permite crear un objeto a partir de una clase, dandole valores particulares a las atributos).\n",
        "\n",
        "## Destructor\n",
        "Se conoce como destructor al método que nos permite eliminar un objeto (No se tiene más aceso al objeto dentro del flujo normal del programa), por lo tanto los atributos y métodos de ese objeto desapareceran también."
      ],
      "metadata": {
        "id": "ou4eY9e7ECko"
      }
    },
    {
      "cell_type": "code",
      "source": [
        "class LinearEquation:\n",
        "    \"\"\"\n",
        "    Linear Equation y = mx + b\n",
        "    \"\"\"\n",
        "    def __init__(self, m, b):\n",
        "        self.m = m \n",
        "        self.b = b \n",
        "    \n",
        "    def evaluate(self,x):\n",
        "        y = self.m*x + self.b\n",
        "        return y \n",
        "\n",
        "    def __del__(self,):\n",
        "        pass "
      ],
      "metadata": {
        "id": "y_oitXwd21cw"
      },
      "execution_count": null,
      "outputs": []
    },
    {
      "cell_type": "code",
      "source": [
        "le = LinearEquation(2,-4)"
      ],
      "metadata": {
        "id": "7Rv48r2ZfR7f"
      },
      "execution_count": null,
      "outputs": []
    },
    {
      "cell_type": "code",
      "source": [
        "le.m, le.b "
      ],
      "metadata": {
        "colab": {
          "base_uri": "https://localhost:8080/"
        },
        "id": "kKHMy9LAf65g",
        "outputId": "f109f0b9-fe5a-4bf2-cd6e-95838d33a880"
      },
      "execution_count": null,
      "outputs": [
        {
          "output_type": "execute_result",
          "data": {
            "text/plain": [
              "(2, -4)"
            ]
          },
          "metadata": {},
          "execution_count": 15
        }
      ]
    },
    {
      "cell_type": "code",
      "source": [
        "le.evaluate(4)"
      ],
      "metadata": {
        "colab": {
          "base_uri": "https://localhost:8080/"
        },
        "id": "4g2tHCNugaRK",
        "outputId": "5d187abe-29ae-43cf-9ea8-89fbd59b9996"
      },
      "execution_count": null,
      "outputs": [
        {
          "output_type": "execute_result",
          "data": {
            "text/plain": [
              "4"
            ]
          },
          "metadata": {},
          "execution_count": 16
        }
      ]
    },
    {
      "cell_type": "code",
      "source": [
        "le.new_parameter = \"Parameter\""
      ],
      "metadata": {
        "id": "ryV95KXWhQzO"
      },
      "execution_count": null,
      "outputs": []
    },
    {
      "cell_type": "code",
      "source": [
        "le.new_parameter"
      ],
      "metadata": {
        "colab": {
          "base_uri": "https://localhost:8080/",
          "height": 35
        },
        "id": "-MAttqgkhhFk",
        "outputId": "7db237a2-9c28-4d5b-cf50-cc8deba0a7de"
      },
      "execution_count": null,
      "outputs": [
        {
          "output_type": "execute_result",
          "data": {
            "text/plain": [
              "'Parameter'"
            ],
            "application/vnd.google.colaboratory.intrinsic+json": {
              "type": "string"
            }
          },
          "metadata": {},
          "execution_count": 21
        }
      ]
    },
    {
      "cell_type": "code",
      "source": [
        "class Car: \n",
        "    def __init__(self, tamano,marca='BMW',color='Negro'):\n",
        "        self.marca = marca\n",
        "        self.color = color\n",
        "        self.tamano = tamano\n",
        "        self.arrancar()\n",
        "\n",
        "    def arrancar(self,):\n",
        "        print('arrancar')\n",
        "\n",
        "    def acelerar(self,):\n",
        "        print('acelerar')\n",
        "\n",
        "    def frenar(self,):\n",
        "        print('frenar')"
      ],
      "metadata": {
        "id": "LIqmyTTUhqcn"
      },
      "execution_count": null,
      "outputs": []
    },
    {
      "cell_type": "code",
      "source": [
        "car1 = Car(tamano='medium')"
      ],
      "metadata": {
        "colab": {
          "base_uri": "https://localhost:8080/"
        },
        "id": "xLlKLMJFj6A9",
        "outputId": "5d9a4876-c19c-4479-bc94-df1be778a143"
      },
      "execution_count": null,
      "outputs": [
        {
          "output_type": "stream",
          "name": "stdout",
          "text": [
            "arrancar\n"
          ]
        }
      ]
    },
    {
      "cell_type": "markdown",
      "source": [
        "## Encapsulamiento\n",
        "A diferencia de la programación secuencial donde las variables(atributos) se declaran al inicio del programa o mientras este se ejecuta, en la POO estas se encapsulan dentro de la clase por lo que los demás elementos del programa no tendran acceso a ella, a no ser que accedan a través del objeto de esa clase.\n",
        "\n",
        "<img src=\"https://drive.google.com/uc?export=view&id=1CAcUWChVCGXbXy483XSyW1MU_j4Mnh36\" width=\"100%\" height=\"10%\"/>"
      ],
      "metadata": {
        "id": "ZPpBa8KjDvwD"
      }
    },
    {
      "cell_type": "markdown",
      "source": [
        "El encapsulamiento o encapsulación en programación es un concepto relacionado con la programación orientada a objetos, y hace referencia al ocultamiento de los estado internos de una clase al exterior. Dicho de otra manera, encapsular consiste en hacer que los atributos o métodos internos a una clase no se puedan acceder ni modificar desde fuera, sino que tan solo el propio objeto pueda acceder a ellos [2](https://ellibrodepython.com/encapsulamiento-poo)."
      ],
      "metadata": {
        "id": "Etzjnp1lpC5Z"
      }
    },
    {
      "cell_type": "markdown",
      "source": [
        "## Acceso a los atributos\n",
        "El acceso a los atributos de un objeto puede ser pùblico, es decir, todos los elementos del programa pueden acceder a ellos a través del objeto o pueden ser ''privados'' en el caso de que los elementos del programa no tengan acceso a estos a través del objeto. En el caso de que los atributos del objeto sean ''privados'' sólo los métodos de este mismo tendrán acceso a ellos.\n",
        "\n",
        "<img src=\"https://drive.google.com/uc?export=view&id=15PDVHkwCw4y7a3j8AEe45nRrzqxWXuYg\" width=\"100%\" height=\"10%\"/>"
      ],
      "metadata": {
        "id": "OZVlAG7nDczs"
      }
    },
    {
      "cell_type": "code",
      "source": [
        "class LinearEquation:\n",
        "    def __init__(self,m,b):\n",
        "        self.__m = m \n",
        "        self.__b = b \n",
        "\n",
        "    def evaluate(self,x):\n",
        "        y = self.__m*x + self.__b\n",
        "        return y \n",
        "\n",
        "    def __del__(self,):\n",
        "        print('Borrado')"
      ],
      "metadata": {
        "id": "wqqupWsq5wqf"
      },
      "execution_count": null,
      "outputs": []
    },
    {
      "cell_type": "code",
      "source": [
        "le = LinearEquation(2,-4)"
      ],
      "metadata": {
        "id": "dtxx5BZQk0kT"
      },
      "execution_count": null,
      "outputs": []
    },
    {
      "cell_type": "code",
      "source": [
        "le.__m "
      ],
      "metadata": {
        "colab": {
          "base_uri": "https://localhost:8080/",
          "height": 169
        },
        "id": "zuipgWOXlOHV",
        "outputId": "7d026c74-70fd-4895-a358-ebc9f74b0fb1"
      },
      "execution_count": null,
      "outputs": [
        {
          "output_type": "error",
          "ename": "AttributeError",
          "evalue": "ignored",
          "traceback": [
            "\u001b[0;31m---------------------------------------------------------------------------\u001b[0m",
            "\u001b[0;31mAttributeError\u001b[0m                            Traceback (most recent call last)",
            "\u001b[0;32m<ipython-input-33-37b219e205ea>\u001b[0m in \u001b[0;36m<module>\u001b[0;34m\u001b[0m\n\u001b[0;32m----> 1\u001b[0;31m \u001b[0mle\u001b[0m\u001b[0;34m.\u001b[0m\u001b[0m__m\u001b[0m\u001b[0;34m\u001b[0m\u001b[0;34m\u001b[0m\u001b[0m\n\u001b[0m",
            "\u001b[0;31mAttributeError\u001b[0m: 'LinearEquation' object has no attribute '__m'"
          ]
        }
      ]
    },
    {
      "cell_type": "code",
      "source": [
        "le.evaluate(4)"
      ],
      "metadata": {
        "colab": {
          "base_uri": "https://localhost:8080/"
        },
        "id": "NIhdCuL_lVzP",
        "outputId": "7ae1dcd6-d08e-40a3-fbff-d03ff38286c3"
      },
      "execution_count": null,
      "outputs": [
        {
          "output_type": "execute_result",
          "data": {
            "text/plain": [
              "4"
            ]
          },
          "metadata": {},
          "execution_count": 34
        }
      ]
    },
    {
      "cell_type": "code",
      "source": [
        "le._LinearEquation__m"
      ],
      "metadata": {
        "colab": {
          "base_uri": "https://localhost:8080/"
        },
        "id": "8m8pRNBzlgXO",
        "outputId": "f011f4dc-267e-4d98-d4b4-b4e2b784535b"
      },
      "execution_count": null,
      "outputs": [
        {
          "output_type": "execute_result",
          "data": {
            "text/plain": [
              "2"
            ]
          },
          "metadata": {},
          "execution_count": 36
        }
      ]
    },
    {
      "cell_type": "code",
      "source": [
        "class LinearEquation:\n",
        "    def __init__(self,m,b):\n",
        "        self.__m = m \n",
        "        self.__b = b \n",
        "\n",
        "    def evaluate(self,x):\n",
        "        return self.__calculate(x)\n",
        "\n",
        "    def __calculate(self,x):\n",
        "        y = self.__m*x + self.__b\n",
        "        return y \n",
        "\n",
        "    def __del__(self,):\n",
        "        print('Borrado')"
      ],
      "metadata": {
        "id": "HJTUmzehmLO3"
      },
      "execution_count": null,
      "outputs": []
    },
    {
      "cell_type": "code",
      "source": [
        "le = LinearEquation(2,-4)"
      ],
      "metadata": {
        "id": "fgGzY61lmgBN"
      },
      "execution_count": null,
      "outputs": []
    },
    {
      "cell_type": "code",
      "source": [
        "le._LinearEquation__calculate(5)"
      ],
      "metadata": {
        "colab": {
          "base_uri": "https://localhost:8080/"
        },
        "id": "edkq4Plwmk-q",
        "outputId": "e18ab2fa-150e-46f7-a253-04cc3807de8c"
      },
      "execution_count": null,
      "outputs": [
        {
          "output_type": "execute_result",
          "data": {
            "text/plain": [
              "6"
            ]
          },
          "metadata": {},
          "execution_count": 41
        }
      ]
    },
    {
      "cell_type": "code",
      "source": [
        "le.evaluate(4)"
      ],
      "metadata": {
        "colab": {
          "base_uri": "https://localhost:8080/"
        },
        "id": "6Z2KFEROmp4W",
        "outputId": "a0971fcf-5ca8-4442-c9e2-0b79f4377b8d"
      },
      "execution_count": null,
      "outputs": [
        {
          "output_type": "execute_result",
          "data": {
            "text/plain": [
              "4"
            ]
          },
          "metadata": {},
          "execution_count": 40
        }
      ]
    },
    {
      "cell_type": "markdown",
      "source": [
        "## Acceso a los métodos\n",
        "Al igual que los atributos, los métodos de un objeto también pueden ser públicos o ''privados''. Generalmente los métodos se declaran ''privados'' cuando sirven como soporte de cálculo dentro de otros métodos que si son públicos."
      ],
      "metadata": {
        "id": "l3OsI29iDSxs"
      }
    },
    {
      "cell_type": "code",
      "source": [
        ""
      ],
      "metadata": {
        "id": "KuythTB7mfYt"
      },
      "execution_count": null,
      "outputs": []
    },
    {
      "cell_type": "code",
      "source": [
        ""
      ],
      "metadata": {
        "id": "rI9bAAfM7-DV"
      },
      "execution_count": null,
      "outputs": []
    },
    {
      "cell_type": "markdown",
      "source": [
        "## Variables de Clase\n",
        "Es un atributo donde todos los objetos le asignan el mismo valor."
      ],
      "metadata": {
        "id": "Obao6JsZDMJA"
      }
    },
    {
      "cell_type": "code",
      "source": [
        "class LinearEquation(object):\n",
        "\n",
        "    b = 2.5 \n",
        "\n",
        "    def __init__(self,m):\n",
        "        self.m = m \n",
        "\n",
        "    def evaluate(self,x):\n",
        "        return self.m*x + LinearEquation.b \n",
        "    \n",
        "    def __del__(self,):\n",
        "        print('Borrado')"
      ],
      "metadata": {
        "id": "w07FLQou-DuD"
      },
      "execution_count": null,
      "outputs": []
    },
    {
      "cell_type": "code",
      "source": [
        "le_1 = LinearEquation(3.2)\n",
        "le_2 = LinearEquation(0.2)\n",
        "le_3 = LinearEquation(-2.3)"
      ],
      "metadata": {
        "id": "x20ySah6pbvJ"
      },
      "execution_count": null,
      "outputs": []
    },
    {
      "cell_type": "code",
      "source": [
        "le_1.b, le_2.b, le_3.b"
      ],
      "metadata": {
        "colab": {
          "base_uri": "https://localhost:8080/"
        },
        "id": "ABQzmF0apjON",
        "outputId": "b386e940-1ae8-46a5-b571-fb1cdf1709b4"
      },
      "execution_count": null,
      "outputs": [
        {
          "output_type": "execute_result",
          "data": {
            "text/plain": [
              "(2.5, 2.5, 2.5)"
            ]
          },
          "metadata": {},
          "execution_count": 46
        }
      ]
    },
    {
      "cell_type": "code",
      "source": [
        "le_1.b = 5"
      ],
      "metadata": {
        "id": "4JVcN0mdpyG5"
      },
      "execution_count": null,
      "outputs": []
    },
    {
      "cell_type": "code",
      "source": [
        "le_1.b"
      ],
      "metadata": {
        "colab": {
          "base_uri": "https://localhost:8080/"
        },
        "id": "KGw7Sw08p6Q4",
        "outputId": "a22b4fad-100a-44fd-f71c-06121482c0cc"
      },
      "execution_count": null,
      "outputs": [
        {
          "output_type": "execute_result",
          "data": {
            "text/plain": [
              "5"
            ]
          },
          "metadata": {},
          "execution_count": 48
        }
      ]
    },
    {
      "cell_type": "code",
      "source": [
        "le_2.b"
      ],
      "metadata": {
        "colab": {
          "base_uri": "https://localhost:8080/"
        },
        "id": "6P-M0gg-p9Uy",
        "outputId": "a566b269-9502-4d24-ffd1-2ae20c2243bd"
      },
      "execution_count": null,
      "outputs": [
        {
          "output_type": "execute_result",
          "data": {
            "text/plain": [
              "2.5"
            ]
          },
          "metadata": {},
          "execution_count": 49
        }
      ]
    },
    {
      "cell_type": "code",
      "source": [
        "LinearEquation.b = 10"
      ],
      "metadata": {
        "id": "SHa4FMYoqbv5"
      },
      "execution_count": null,
      "outputs": []
    },
    {
      "cell_type": "code",
      "source": [
        "le_1.b, le_2.b, le_3.b"
      ],
      "metadata": {
        "colab": {
          "base_uri": "https://localhost:8080/"
        },
        "id": "FXaHLhrXqjrw",
        "outputId": "b0728a40-32b8-470c-bacd-2c076701384c"
      },
      "execution_count": null,
      "outputs": [
        {
          "output_type": "execute_result",
          "data": {
            "text/plain": [
              "(5, 10, 10)"
            ]
          },
          "metadata": {},
          "execution_count": 53
        }
      ]
    },
    {
      "cell_type": "markdown",
      "source": [
        "## Atributos por Defecto en Clase"
      ],
      "metadata": {
        "id": "aPXFHffXEeE3"
      }
    },
    {
      "cell_type": "code",
      "source": [
        "class LinearEquation:\n",
        "    def __init__(self,):\n",
        "        pass \n",
        "\n",
        "    def evaluate(self,x):\n",
        "        self.m = 4\n",
        "        self.b = -2 \n",
        "        return self.m*x + self.b "
      ],
      "metadata": {
        "id": "52j-75EB3uq4"
      },
      "execution_count": null,
      "outputs": []
    },
    {
      "cell_type": "code",
      "source": [
        "le = LinearEquation()"
      ],
      "metadata": {
        "id": "s4T_7gUPv3OP"
      },
      "execution_count": null,
      "outputs": []
    },
    {
      "cell_type": "code",
      "source": [
        "le.evaluate(4)"
      ],
      "metadata": {
        "colab": {
          "base_uri": "https://localhost:8080/"
        },
        "id": "Sxtl3sSIwHqZ",
        "outputId": "7c72150e-45dc-4753-b706-62e9a0187c6d"
      },
      "execution_count": null,
      "outputs": [
        {
          "output_type": "execute_result",
          "data": {
            "text/plain": [
              "14"
            ]
          },
          "metadata": {},
          "execution_count": 61
        }
      ]
    },
    {
      "cell_type": "code",
      "source": [
        "le.m, le.b"
      ],
      "metadata": {
        "colab": {
          "base_uri": "https://localhost:8080/"
        },
        "id": "MfAL93WmvpXy",
        "outputId": "7cf52a31-1fee-40e8-b43d-25079e7a7bf4"
      },
      "execution_count": null,
      "outputs": [
        {
          "output_type": "execute_result",
          "data": {
            "text/plain": [
              "(4, -2)"
            ]
          },
          "metadata": {},
          "execution_count": 62
        }
      ]
    },
    {
      "cell_type": "markdown",
      "source": [
        "## Atributos vacios en clase"
      ],
      "metadata": {
        "id": "ESL6-zeUEj0b"
      }
    },
    {
      "cell_type": "code",
      "source": [
        "class LinearEquation:\n",
        "    def __init__(self,):\n",
        "        ... \n",
        "\n",
        "    def evaluate(self,x):\n",
        "        self.m = 4\n",
        "        self.b = -2 \n",
        "        return self.m*x + self.b \n",
        "\n",
        "    def __del__(self,):\n",
        "        print(\"Borrado\")\n"
      ],
      "metadata": {
        "id": "wgEh1nj035jI"
      },
      "execution_count": null,
      "outputs": []
    },
    {
      "cell_type": "code",
      "source": [
        "le = LinearEquation()\n",
        "le.evaluate(3)"
      ],
      "metadata": {
        "colab": {
          "base_uri": "https://localhost:8080/"
        },
        "id": "2J5hrEc_wg0s",
        "outputId": "a7926581-82f2-494b-9045-1164cda8e236"
      },
      "execution_count": null,
      "outputs": [
        {
          "output_type": "execute_result",
          "data": {
            "text/plain": [
              "10"
            ]
          },
          "metadata": {},
          "execution_count": 68
        }
      ]
    },
    {
      "cell_type": "code",
      "source": [
        "del le"
      ],
      "metadata": {
        "colab": {
          "base_uri": "https://localhost:8080/"
        },
        "id": "5zvThhmewlcY",
        "outputId": "ca1c7b64-dbbc-4394-9949-8271a6247ab7"
      },
      "execution_count": null,
      "outputs": [
        {
          "output_type": "stream",
          "name": "stdout",
          "text": [
            "Borrado\n"
          ]
        }
      ]
    },
    {
      "cell_type": "code",
      "source": [
        "le "
      ],
      "metadata": {
        "colab": {
          "base_uri": "https://localhost:8080/",
          "height": 169
        },
        "id": "xw7SGJmdwpdP",
        "outputId": "37879559-6df8-494c-ee76-4bc07ea2e1b0"
      },
      "execution_count": null,
      "outputs": [
        {
          "output_type": "error",
          "ename": "NameError",
          "evalue": "ignored",
          "traceback": [
            "\u001b[0;31m---------------------------------------------------------------------------\u001b[0m",
            "\u001b[0;31mNameError\u001b[0m                                 Traceback (most recent call last)",
            "\u001b[0;32m<ipython-input-70-09c9545c706f>\u001b[0m in \u001b[0;36m<module>\u001b[0;34m\u001b[0m\n\u001b[0;32m----> 1\u001b[0;31m \u001b[0mle\u001b[0m\u001b[0;34m\u001b[0m\u001b[0;34m\u001b[0m\u001b[0m\n\u001b[0m",
            "\u001b[0;31mNameError\u001b[0m: name 'le' is not defined"
          ]
        }
      ]
    },
    {
      "cell_type": "markdown",
      "source": [
        "## Herencia\n",
        "La herencia consiste en que una clase (subclase, clase hija) hereda todos los atributos y métodos de otra clase (superclase, clase padre). Cuando una persona nace, hereda de sus padres los apellidos (atributos) y cuando estos mueren todos sus bienes raices (atributos) pasan a ser parte de esta.\n",
        "\n",
        "<img src=\"https://drive.google.com/uc?export=view&id=1OjTGNrLjwossJSXpyQ7Cr22v0qKTui1O\" width=\"100%\" height=\"10%\"/>"
      ],
      "metadata": {
        "id": "_x8oscbvEujj"
      }
    },
    {
      "cell_type": "markdown",
      "source": [
        "$y = ax^2 + mx + b$; Parabola Equation"
      ],
      "metadata": {
        "id": "R36fJMt7F4ll"
      }
    },
    {
      "cell_type": "code",
      "source": [
        "class LinearEquation:\n",
        "    def __init__(self,m,b):\n",
        "        self.m = m\n",
        "        self.b = b \n",
        "\n",
        "    def evaluate(self,x):\n",
        "        return self.m*x + self.b "
      ],
      "metadata": {
        "id": "G0hrxWyDGLQg"
      },
      "execution_count": null,
      "outputs": []
    },
    {
      "cell_type": "code",
      "source": [
        "class Parabola(LinearEquation):\n",
        "\n",
        "    def __init__(self,a,m,b):\n",
        "        super().__init__(m, b)\n",
        "        self.a = a \n",
        "\n",
        "    def evaluate_p(self,x):\n",
        "        return self.a*x**2 + self.evaluate(x)"
      ],
      "metadata": {
        "id": "UWXiOakTxa8j"
      },
      "execution_count": null,
      "outputs": []
    },
    {
      "cell_type": "code",
      "source": [
        "pe = Parabola(3.4, -2, 4)"
      ],
      "metadata": {
        "id": "MP6TYtwjyMH5"
      },
      "execution_count": null,
      "outputs": []
    },
    {
      "cell_type": "code",
      "source": [
        "pe.a, pe.b, pe.m"
      ],
      "metadata": {
        "colab": {
          "base_uri": "https://localhost:8080/"
        },
        "id": "_6Jiu9FOyhlf",
        "outputId": "8e9210f8-0d02-4d11-c303-be0f8dbb4bee"
      },
      "execution_count": null,
      "outputs": [
        {
          "output_type": "execute_result",
          "data": {
            "text/plain": [
              "(3.4, 4, -2)"
            ]
          },
          "metadata": {},
          "execution_count": 77
        }
      ]
    },
    {
      "cell_type": "code",
      "source": [
        "pe.evaluate_p(5)"
      ],
      "metadata": {
        "colab": {
          "base_uri": "https://localhost:8080/"
        },
        "id": "CMB2y0GHyrNK",
        "outputId": "ac6d7647-52cf-4ab3-bfff-58ad5c906db9"
      },
      "execution_count": null,
      "outputs": [
        {
          "output_type": "execute_result",
          "data": {
            "text/plain": [
              "79.0"
            ]
          },
          "metadata": {},
          "execution_count": 78
        }
      ]
    },
    {
      "cell_type": "markdown",
      "source": [
        "### Herencia Múltiple"
      ],
      "metadata": {
        "id": "xTgHADPQIam9"
      }
    },
    {
      "cell_type": "markdown",
      "source": [
        "$y = v(mx + b + k\\sqrt{x^2 + y^2} + \\frac{wz^2}{px})^2$\n",
        "\n",
        "LinearEquation: $mx + b$\n",
        "\n",
        "Equation2: $k\\sqrt{x^2 + y^2}$\n",
        "\n",
        "Equation3: $\\frac{wz^2}{px}$"
      ],
      "metadata": {
        "id": "5cGETCAnH5Q1"
      }
    },
    {
      "cell_type": "code",
      "source": [
        "from math import sqrt \n",
        "\n",
        "class Equation2:\n",
        "\n",
        "    def __init__(self,k):\n",
        "        self.k = k \n",
        "\n",
        "    def evaluate_eq2(self,x,y):\n",
        "        return self.k*sqrt(x**2 + y**2)"
      ],
      "metadata": {
        "id": "vJbPcVT2IZdV"
      },
      "execution_count": null,
      "outputs": []
    },
    {
      "cell_type": "code",
      "source": [
        "class Equation3:\n",
        "    def __init__(self,w,p):\n",
        "        self.w = w \n",
        "        self.p = p\n",
        "\n",
        "    def evaluate_eq3(self,z,x):\n",
        "        return (self.w*z**2)/(self.p*x)"
      ],
      "metadata": {
        "id": "NFw2GGKfzdxH"
      },
      "execution_count": null,
      "outputs": []
    },
    {
      "cell_type": "code",
      "source": [
        "class CompleteEquation(LinearEquation,Equation2, Equation3):\n",
        "\n",
        "    def __init__(self,v,m,b,k,w,p):\n",
        "        LinearEquation.__init__(self, m, b)\n",
        "        Equation2.__init__(self,k)\n",
        "        Equation3.__init__(self,w,p)\n",
        "        self.v = v\n",
        "    \n",
        "    def evaluate_ceq(self,x,y,z):\n",
        "        y = self.v*(self.evaluate(x) + self.evaluate_eq2(x,y) + self.evaluate_eq3(z,x))**2\n",
        "        return y "
      ],
      "metadata": {
        "id": "yErgjlUVzyM6"
      },
      "execution_count": null,
      "outputs": []
    },
    {
      "cell_type": "code",
      "source": [
        "ce = CompleteEquation(2,-1.1,0.8,4.5,-0.234,0.56)"
      ],
      "metadata": {
        "id": "hWMgeu4L001L"
      },
      "execution_count": null,
      "outputs": []
    },
    {
      "cell_type": "code",
      "source": [
        "ce.evaluate_ceq(-1.2,4,67)"
      ],
      "metadata": {
        "colab": {
          "base_uri": "https://localhost:8080/"
        },
        "id": "hARIft-A0_X3",
        "outputId": "ef93ef6f-f6b4-4b77-e752-d446407c05b5"
      },
      "execution_count": null,
      "outputs": [
        {
          "output_type": "execute_result",
          "data": {
            "text/plain": [
              "5018406.503422229"
            ]
          },
          "metadata": {},
          "execution_count": 83
        }
      ]
    },
    {
      "cell_type": "markdown",
      "source": [
        "## Polimorfismo\n",
        "Los métodos que una clase hereda de otra no necesariamente deben funcionar lo mismo, pueden tenerse variantes. Todos los animales (clase padre) maúllan, sin embargo, los leones, gatos, perros, etc... lo hacen de forma diferente. En python a esto se le conoce como sobre carga de métodos.\n",
        "\n",
        "<img src=\"https://drive.google.com/uc?export=view&id=1JaRCrSj7fGgX-Hh_69piI1vhGPGYTSAC\" width=\"100%\" height=\"10%\"/>"
      ],
      "metadata": {
        "id": "sYFGKDIqFQFK"
      }
    },
    {
      "cell_type": "code",
      "source": [
        "class MyClass1: \n",
        "    def __repr__(self,):\n",
        "        return \"My class 1 speak\"\n",
        "\n",
        "class MyClass2:\n",
        "    def __repr__(self):\n",
        "        return \"My class 2 speak\"\n",
        "\n",
        "\n",
        "class MyClass3:\n",
        "    def __len__(self,):\n",
        "        return 4"
      ],
      "metadata": {
        "id": "H0yKpw2QFRkw"
      },
      "execution_count": null,
      "outputs": []
    },
    {
      "cell_type": "code",
      "source": [
        "my_class1 = MyClass1()\n",
        "my_class2 = MyClass2()\n",
        "my_class3 = MyClass3()"
      ],
      "metadata": {
        "id": "PuMCN_QX16jX"
      },
      "execution_count": null,
      "outputs": []
    },
    {
      "cell_type": "code",
      "source": [
        "len(my_class3)"
      ],
      "metadata": {
        "colab": {
          "base_uri": "https://localhost:8080/"
        },
        "id": "aOqFJFvm4Zw5",
        "outputId": "bbb8995f-d6b4-46e8-c716-ff3305d95985"
      },
      "execution_count": null,
      "outputs": [
        {
          "output_type": "execute_result",
          "data": {
            "text/plain": [
              "4"
            ]
          },
          "metadata": {},
          "execution_count": 104
        }
      ]
    },
    {
      "cell_type": "code",
      "source": [
        "print(my_class1)"
      ],
      "metadata": {
        "colab": {
          "base_uri": "https://localhost:8080/"
        },
        "id": "ceQcmtuC2BLW",
        "outputId": "363fce86-18f0-4e26-a50b-520af7237591"
      },
      "execution_count": null,
      "outputs": [
        {
          "output_type": "stream",
          "name": "stdout",
          "text": [
            "My class 1 speak\n"
          ]
        }
      ]
    },
    {
      "cell_type": "code",
      "source": [
        "print(my_class2)"
      ],
      "metadata": {
        "colab": {
          "base_uri": "https://localhost:8080/"
        },
        "id": "HXMqwavW2HdK",
        "outputId": "814499d3-4310-40d9-e507-4c3a48c30827"
      },
      "execution_count": null,
      "outputs": [
        {
          "output_type": "stream",
          "name": "stdout",
          "text": [
            "My class 2 speak\n"
          ]
        }
      ]
    },
    {
      "cell_type": "code",
      "source": [
        "print(my_class3)"
      ],
      "metadata": {
        "colab": {
          "base_uri": "https://localhost:8080/"
        },
        "id": "vOzPKhzz2aAH",
        "outputId": "03d2a03b-9d81-424c-c240-4bc35cf11aba"
      },
      "execution_count": null,
      "outputs": [
        {
          "output_type": "stream",
          "name": "stdout",
          "text": [
            "<__main__.MyClass3 object at 0x7f3da82f3f10>\n"
          ]
        }
      ]
    },
    {
      "cell_type": "markdown",
      "source": [
        "Implementar un método mágico: **Magic methods**"
      ],
      "metadata": {
        "id": "NZvCHZGoUN5O"
      }
    },
    {
      "cell_type": "markdown",
      "source": [
        "## Módulo\n",
        "Un módulo es cualquier archivo .py que alberga clases, funciones, variables, etc..., y que se usa con el fin de que posteriormente puedan ser utilizadas(importadas) en otros programas.\n",
        "\n",
        "<img src=\"https://drive.google.com/uc?export=view&id=1lfrbvz4JzLsCsHKcnCp6DEr3WvD-tf4U\" width=\"100%\" height=\"60%\"/>\n"
      ],
      "metadata": {
        "id": "saFd6bZ9Exbk"
      }
    },
    {
      "cell_type": "markdown",
      "source": [
        "Tarea: Implementar un calculadora cientifica usando programación orientada en objetos. Además esta debe estar en un módulo (archivo .py ) y mostrar ejemplos en otro código."
      ],
      "metadata": {
        "id": "2bB9CEFY3mLW"
      }
    },
    {
      "cell_type": "code",
      "source": [
        "from calculadora import Calculadora "
      ],
      "metadata": {
        "id": "r06uCLM4E3pl"
      },
      "execution_count": null,
      "outputs": []
    },
    {
      "cell_type": "code",
      "source": [
        "calculadora = Calculadora()\n",
        "\n",
        "calculadora.sumar(4,6)\n",
        "calculadora.multiplicar(4,6)"
      ],
      "metadata": {
        "id": "w4vD2bgG6sIJ"
      },
      "execution_count": null,
      "outputs": []
    },
    {
      "cell_type": "markdown",
      "source": [
        "### \\__init__\n",
        "La variable \\__init__ se utiliza como bandera para saber si el archivo .py se va utilizar para importar sus clases, funciones y variables o para ejecutarse como proframama principal."
      ],
      "metadata": {
        "id": "nsmVy2ltE41M"
      }
    },
    {
      "cell_type": "code",
      "source": [
        ""
      ],
      "metadata": {
        "id": "cNzj_hYIE__v"
      },
      "execution_count": null,
      "outputs": []
    },
    {
      "cell_type": "code",
      "source": [
        ""
      ],
      "metadata": {
        "id": "rZMk9c0-bGtw"
      },
      "execution_count": null,
      "outputs": []
    },
    {
      "cell_type": "markdown",
      "source": [
        "## Paquetes\n",
        "Se utilizan para categorizar los módulos de acuerdo a su funcionalidad. Son simplemente carpetas que albergan archivos .py.\n",
        "\n",
        "<img src=\"https://drive.google.com/uc?export=view&id=1DNWcevCzTe2E4WDLwhxXYJpV4ibPdhbf\" width=\"50%\" height=\"10%\"/>"
      ],
      "metadata": {
        "id": "GamYDbkXFArF"
      }
    },
    {
      "cell_type": "code",
      "source": [
        ""
      ],
      "metadata": {
        "id": "4Zhb1jeo4Kza"
      },
      "execution_count": null,
      "outputs": []
    }
  ]
}